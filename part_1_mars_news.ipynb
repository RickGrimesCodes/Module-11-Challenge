{
 "cells": [
  {
   "attachments": {},
   "cell_type": "markdown",
   "metadata": {},
   "source": [
    "# Module 11 Challenge\n",
    "## Deliverable 1: Scrape Titles and Preview Text from Mars News"
   ]
  },
  {
   "cell_type": "code",
   "metadata": {
    "ExecuteTime": {
     "end_time": "2024-08-19T05:27:48.675295Z",
     "start_time": "2024-08-19T05:27:48.323075Z"
    }
   },
   "source": [
    "# Import Splinter and BeautifulSoup\n",
    "from splinter import Browser\n",
    "from bs4 import BeautifulSoup"
   ],
   "outputs": [],
   "execution_count": 2
  },
  {
   "cell_type": "code",
   "metadata": {
    "scrolled": true,
    "ExecuteTime": {
     "end_time": "2024-08-19T05:27:54.479827Z",
     "start_time": "2024-08-19T05:27:48.731510Z"
    }
   },
   "source": "browser = Browser('firefox')",
   "outputs": [],
   "execution_count": 3
  },
  {
   "attachments": {},
   "cell_type": "markdown",
   "metadata": {},
   "source": [
    "### Step 1: Visit the Website\n",
    "\n",
    "1. Use automated browsing to visit the [Mars news site](https://static.bc-edx.com/data/web/mars_news/index.html). Inspect the page to identify which elements to scrape.\n",
    "\n",
    "      > **Hint** To identify which elements to scrape, you might want to inspect the page by using Chrome DevTools."
   ]
  },
  {
   "cell_type": "code",
   "metadata": {
    "ExecuteTime": {
     "end_time": "2024-08-19T05:27:57.078787Z",
     "start_time": "2024-08-19T05:27:55.847928Z"
    }
   },
   "source": [
    "# Visit the Mars news site\n",
    "url = 'https://static.bc-edx.com/data/web/mars_news/index.html'\n",
    "browser.visit(url)"
   ],
   "outputs": [],
   "execution_count": 4
  },
  {
   "attachments": {},
   "cell_type": "markdown",
   "metadata": {},
   "source": [
    "### Step 2: Scrape the Website\n",
    "\n",
    "Create a Beautiful Soup object and use it to extract text elements from the website."
   ]
  },
  {
   "cell_type": "code",
   "metadata": {
    "ExecuteTime": {
     "end_time": "2024-08-20T03:13:02.986950Z",
     "start_time": "2024-08-20T03:13:02.943896Z"
    }
   },
   "source": [
    "# Create a Beautiful Soup object\n",
    "htmlstring = browser.html\n",
    "soup = BeautifulSoup(htmlstring, 'html.parser')"
   ],
   "outputs": [],
   "execution_count": 7
  },
  {
   "cell_type": "code",
   "metadata": {
    "ExecuteTime": {
     "end_time": "2024-08-20T23:03:42.435934Z",
     "start_time": "2024-08-20T23:03:42.429919Z"
    }
   },
   "source": [
    "# Extract all the text elements\n",
    "title = soup.findAll('div', class_='content_title')\n",
    "preview = soup.findAll('div', class_='article_teaser_body')\n",
    "title_text = [t.text for t in title]\n",
    "preview_text = [p.text for p in preview]\n",
    "print(title_text)\n",
    "print(preview_text)"
   ],
   "outputs": [
    {
     "name": "stdout",
     "output_type": "stream",
     "text": [
      "[\"NASA's MAVEN Observes Martian Light Show Caused by Major Solar Storm\", \"NASA Prepares to Say 'Farewell' to InSight Spacecraft\", 'NASA and ESA Agree on Next Steps to Return Mars Samples to Earth', \"NASA's InSight Lander Detects Stunning Meteoroid Impact on Mars\", 'NASA To Host Briefing on InSight, Mars Reconnaissance Orbiter Findings', 'Why NASA Is Trying To Crash Land on Mars', 'Curiosity Mars Rover Reaches Long-Awaited Salty Region', 'Mars Mission Shields Up for Tests', \"NASA's InSight Waits Out Dust Storm\", \"NASA's InSight 'Hears' Its First Meteoroid Impacts on Mars\", \"NASA's Perseverance Rover Investigates Geologically Rich Mars Terrain\", 'NASA to Host Briefing on Perseverance Mars Rover Mission Operations', \"NASA's Perseverance Makes New Discoveries in Mars' Jezero Crater\", \"10 Years Since Landing, NASA's Curiosity Mars Rover Still Has Drive\", \"SAM's Top 5 Discoveries Aboard NASA's Curiosity Rover at Mars\"]\n",
      "['For the first time in its eight years orbiting Mars, NASA’s MAVEN mission witnessed two different types of ultraviolet aurorae simultaneously, the result of solar storms that began on Aug. 27.', 'A closer look at what goes into wrapping up the mission as the spacecraft’s power supply continues to dwindle.', 'The agency’s Perseverance rover will establish the first sample depot on Mars.', 'The agency’s lander felt the ground shake during the impact while cameras aboard the Mars Reconnaissance Orbiter spotted the yawning new crater from space.', 'Scientists from two Mars missions will discuss how they combined images and data for a major finding on the Red Planet.', 'Like a car’s crumple zone, the experimental SHIELD lander is designed to absorb a hard impact.', 'After years of climbing, the Mars rover has arrived at a special region believed to have formed as Mars’ climate was drying.', 'Protecting Mars Sample Return spacecraft from micrometeorites requires high-caliber work.', 'InSight’s team is taking steps to help the solar-powered lander continue operating for as long as possible.', 'The Mars lander’s seismometer has picked up vibrations from four separate impacts in the past two years.', 'The latest findings provide greater detail on a region of the Red Planet that has a watery past and is yielding promising samples for the NASA-ESA Mars Sample Return campaign.', 'Members of the mission will discuss the rover’s activities as it gathers samples in an ancient river delta.', 'The rover found that Jezero Crater’s floor is made up of volcanic rocks that have interacted with water.', 'Despite signs of wear, the intrepid spacecraft is about to start an exciting new chapter of its mission as it climbs a Martian mountain.', '“Selfie” of the Curiosity rover with inset showing the SAM instrument prior to installation on the rover.']\n"
     ]
    }
   ],
   "execution_count": 42
  },
  {
   "attachments": {},
   "cell_type": "markdown",
   "metadata": {},
   "source": [
    "### Step 3: Store the Results\n",
    "\n",
    "Extract the titles and preview text of the news articles that you scraped. Store the scraping results in Python data structures as follows:\n",
    "\n",
    "* Store each title-and-preview pair in a Python dictionary. And, give each dictionary two keys: `title` and `preview`. An example is the following:\n",
    "\n",
    "  ```python\n",
    "  {'title': \"NASA's MAVEN Observes Martian Light Show Caused by Major Solar Storm\", \n",
    "   'preview': \"For the first time in its eight years orbiting Mars, NASA’s MAVEN mission witnessed two different types of ultraviolet aurorae simultaneously, the result of solar storms that began on Aug. 27.\"\n",
    "  }\n",
    "  ```\n",
    "\n",
    "* Store all the dictionaries in a Python list.\n",
    "\n",
    "* Print the list in your notebook."
   ]
  },
  {
   "cell_type": "code",
   "metadata": {
    "ExecuteTime": {
     "end_time": "2024-08-20T23:03:46.668860Z",
     "start_time": "2024-08-20T23:03:46.666706Z"
    }
   },
   "source": [
    "# Create an empty list to store the dictionaries\n",
    "Data = []"
   ],
   "outputs": [],
   "execution_count": 43
  },
  {
   "cell_type": "code",
   "metadata": {
    "ExecuteTime": {
     "end_time": "2024-08-20T23:03:47.079222Z",
     "start_time": "2024-08-20T23:03:47.076898Z"
    }
   },
   "source": [
    "# Loop through the text elements\n",
    "# Extract the title and preview text from the elements\n",
    "# Store each title and preview pair in a dictionary\n",
    "# Add the dictionary to the list\n",
    "for i in range(len(title_text)):\n",
    "    Data.append({'title': title_text[i], 'preview': preview_text[i]})\n"
   ],
   "outputs": [],
   "execution_count": 44
  },
  {
   "cell_type": "code",
   "metadata": {
    "ExecuteTime": {
     "end_time": "2024-08-20T23:03:48.196895Z",
     "start_time": "2024-08-20T23:03:48.193920Z"
    }
   },
   "source": [
    "# Print the list to confirm success\n",
    "for item in Data:\n",
    "    print(f\"Title: {item['title']}\")\n",
    "    print(f\"Preview: {item['preview']}\\n\")"
   ],
   "outputs": [
    {
     "name": "stdout",
     "output_type": "stream",
     "text": [
      "Title: NASA's MAVEN Observes Martian Light Show Caused by Major Solar Storm\n",
      "Preview: For the first time in its eight years orbiting Mars, NASA’s MAVEN mission witnessed two different types of ultraviolet aurorae simultaneously, the result of solar storms that began on Aug. 27.\n",
      "\n",
      "Title: NASA Prepares to Say 'Farewell' to InSight Spacecraft\n",
      "Preview: A closer look at what goes into wrapping up the mission as the spacecraft’s power supply continues to dwindle.\n",
      "\n",
      "Title: NASA and ESA Agree on Next Steps to Return Mars Samples to Earth\n",
      "Preview: The agency’s Perseverance rover will establish the first sample depot on Mars.\n",
      "\n",
      "Title: NASA's InSight Lander Detects Stunning Meteoroid Impact on Mars\n",
      "Preview: The agency’s lander felt the ground shake during the impact while cameras aboard the Mars Reconnaissance Orbiter spotted the yawning new crater from space.\n",
      "\n",
      "Title: NASA To Host Briefing on InSight, Mars Reconnaissance Orbiter Findings\n",
      "Preview: Scientists from two Mars missions will discuss how they combined images and data for a major finding on the Red Planet.\n",
      "\n",
      "Title: Why NASA Is Trying To Crash Land on Mars\n",
      "Preview: Like a car’s crumple zone, the experimental SHIELD lander is designed to absorb a hard impact.\n",
      "\n",
      "Title: Curiosity Mars Rover Reaches Long-Awaited Salty Region\n",
      "Preview: After years of climbing, the Mars rover has arrived at a special region believed to have formed as Mars’ climate was drying.\n",
      "\n",
      "Title: Mars Mission Shields Up for Tests\n",
      "Preview: Protecting Mars Sample Return spacecraft from micrometeorites requires high-caliber work.\n",
      "\n",
      "Title: NASA's InSight Waits Out Dust Storm\n",
      "Preview: InSight’s team is taking steps to help the solar-powered lander continue operating for as long as possible.\n",
      "\n",
      "Title: NASA's InSight 'Hears' Its First Meteoroid Impacts on Mars\n",
      "Preview: The Mars lander’s seismometer has picked up vibrations from four separate impacts in the past two years.\n",
      "\n",
      "Title: NASA's Perseverance Rover Investigates Geologically Rich Mars Terrain\n",
      "Preview: The latest findings provide greater detail on a region of the Red Planet that has a watery past and is yielding promising samples for the NASA-ESA Mars Sample Return campaign.\n",
      "\n",
      "Title: NASA to Host Briefing on Perseverance Mars Rover Mission Operations\n",
      "Preview: Members of the mission will discuss the rover’s activities as it gathers samples in an ancient river delta.\n",
      "\n",
      "Title: NASA's Perseverance Makes New Discoveries in Mars' Jezero Crater\n",
      "Preview: The rover found that Jezero Crater’s floor is made up of volcanic rocks that have interacted with water.\n",
      "\n",
      "Title: 10 Years Since Landing, NASA's Curiosity Mars Rover Still Has Drive\n",
      "Preview: Despite signs of wear, the intrepid spacecraft is about to start an exciting new chapter of its mission as it climbs a Martian mountain.\n",
      "\n",
      "Title: SAM's Top 5 Discoveries Aboard NASA's Curiosity Rover at Mars\n",
      "Preview: “Selfie” of the Curiosity rover with inset showing the SAM instrument prior to installation on the rover.\n",
      "\n"
     ]
    }
   ],
   "execution_count": 45
  },
  {
   "cell_type": "code",
   "metadata": {
    "ExecuteTime": {
     "end_time": "2024-08-20T23:05:29.289335Z",
     "start_time": "2024-08-20T23:05:26.799679Z"
    }
   },
   "source": [
    "browser.quit()"
   ],
   "outputs": [],
   "execution_count": 46
  },
  {
   "cell_type": "code",
   "execution_count": null,
   "metadata": {},
   "outputs": [],
   "source": []
  }
 ],
 "metadata": {
  "kernelspec": {
   "display_name": "Python 3 (ipykernel)",
   "language": "python",
   "name": "python3"
  },
  "language_info": {
   "codemirror_mode": {
    "name": "ipython",
    "version": 3
   },
   "file_extension": ".py",
   "mimetype": "text/x-python",
   "name": "python",
   "nbconvert_exporter": "python",
   "pygments_lexer": "ipython3",
   "version": "3.10.4"
  },
  "vscode": {
   "interpreter": {
    "hash": "31f2aee4e71d21fbe5cf8b01ff0e069b9275f58929596ceb00d14d90e3e16cd6"
   }
  }
 },
 "nbformat": 4,
 "nbformat_minor": 4
}
